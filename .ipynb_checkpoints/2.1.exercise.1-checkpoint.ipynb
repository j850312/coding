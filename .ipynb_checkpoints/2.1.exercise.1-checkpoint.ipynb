{
 "cells": [
  {
   "cell_type": "code",
   "execution_count": 1,
   "metadata": {},
   "outputs": [
    {
     "name": "stdout",
     "output_type": "stream",
     "text": [
      ">10\n"
     ]
    }
   ],
   "source": [
    "n = int(input(\">\"))"
   ]
  },
  {
   "cell_type": "markdown",
   "metadata": {},
   "source": [
    "# 外層迴圈"
   ]
  },
  {
   "cell_type": "code",
   "execution_count": 2,
   "metadata": {},
   "outputs": [
    {
     "name": "stdout",
     "output_type": "stream",
     "text": [
      "1! =  \n",
      "2! =  \n",
      "3! =  \n",
      "4! =  \n",
      "5! =  \n",
      "6! =  \n",
      "7! =  \n",
      "8! =  \n",
      "9! =  \n",
      "10! =  \n"
     ]
    }
   ],
   "source": [
    "for i in range(1, n + 1):\n",
    "    print(\"{}! = \".format(i), end = \" \")\n",
    "    \n",
    "    # 產生階乘字串\n",
    "    \n",
    "    # 產生階乘結果\n",
    "    \n",
    "    # 印出階乘結果\n",
    "    print()"
   ]
  },
  {
   "cell_type": "markdown",
   "metadata": {},
   "source": [
    "# 階乘"
   ]
  },
  {
   "cell_type": "code",
   "execution_count": 3,
   "metadata": {},
   "outputs": [
    {
     "name": "stdout",
     "output_type": "stream",
     "text": [
      ">10\n",
      "3628800\n"
     ]
    }
   ],
   "source": [
    "i = int(input(\">\"))\n",
    "\n",
    "factorial = 1\n",
    "for j in range(1, i + 1):\n",
    "    # factorial = factorial * j\n",
    "    factorial *= j\n",
    "\n",
    "print(factorial)"
   ]
  },
  {
   "cell_type": "markdown",
   "metadata": {},
   "source": [
    "# 結合外層迴圈及階乘計算"
   ]
  },
  {
   "cell_type": "code",
   "execution_count": 4,
   "metadata": {},
   "outputs": [
    {
     "name": "stdout",
     "output_type": "stream",
     "text": [
      "1! =  1\n",
      "2! =  2\n",
      "3! =  6\n",
      "4! =  24\n",
      "5! =  120\n",
      "6! =  720\n",
      "7! =  5040\n",
      "8! =  40320\n",
      "9! =  362880\n",
      "10! =  3628800\n"
     ]
    }
   ],
   "source": [
    "for i in range(1, n + 1):\n",
    "    print(\"{}! = \".format(i), end = \" \")\n",
    "    \n",
    "    # 產生階乘字串\n",
    "    \n",
    "    # 產生階乘結果\n",
    "    factorial = 1\n",
    "    for j in range(1, i + 1):\n",
    "        # factorial = factorial * j\n",
    "        factorial *= j\n",
    "        \n",
    "    print(\"{}\".format(factorial))\n"
   ]
  },
  {
   "cell_type": "markdown",
   "metadata": {},
   "source": [
    "# 完整程式 1"
   ]
  },
  {
   "cell_type": "code",
   "execution_count": 5,
   "metadata": {},
   "outputs": [
    {
     "name": "stdout",
     "output_type": "stream",
     "text": [
      "1! =  1  = 1\n",
      "2! =  1x2  = 2\n",
      "3! =  1x2x3  = 6\n",
      "4! =  1x2x3x4  = 24\n",
      "5! =  1x2x3x4x5  = 120\n",
      "6! =  1x2x3x4x5x6  = 720\n",
      "7! =  1x2x3x4x5x6x7  = 5040\n",
      "8! =  1x2x3x4x5x6x7x8  = 40320\n",
      "9! =  1x2x3x4x5x6x7x8x9  = 362880\n",
      "10! =  1x2x3x4x5x6x7x8x9x10  = 3628800\n"
     ]
    }
   ],
   "source": [
    "for i in range(1, n + 1):\n",
    "    print(\"{}! = \".format(i), end = \" \")\n",
    "    \n",
    "    # 產生階乘字串\n",
    "    a_list = [str(x) for x in range(1, i + 1)]\n",
    "    print('x'.join(a_list), end = \" \")\n",
    "    \n",
    "    # 產生階乘結果\n",
    "    factorial = 1\n",
    "    for j in range(1, i + 1):\n",
    "        factorial *= j\n",
    "    \n",
    "    # 印出階乘結果\n",
    "    print(\" = {}\".format(factorial))"
   ]
  },
  {
   "cell_type": "markdown",
   "metadata": {},
   "source": [
    "# 完整程式 2\n",
    "## 調整列印的格式"
   ]
  },
  {
   "cell_type": "code",
   "execution_count": 6,
   "metadata": {},
   "outputs": [
    {
     "name": "stdout",
     "output_type": "stream",
     "text": [
      " 1! =  1  = 1\n",
      " 2! =  1x2  = 2\n",
      " 3! =  1x2x3  = 6\n",
      " 4! =  1x2x3x4  = 24\n",
      " 5! =  1x2x3x4x5  = 120\n",
      " 6! =  1x2x3x4x5x6  = 720\n",
      " 7! =  1x2x3x4x5x6x7  = 5040\n",
      " 8! =  1x2x3x4x5x6x7x8  = 40320\n",
      " 9! =  1x2x3x4x5x6x7x8x9  = 362880\n",
      "10! =  1x2x3x4x5x6x7x8x9x10  = 3628800\n"
     ]
    }
   ],
   "source": [
    "for i in range(1, n + 1):\n",
    "    print(\"{:>2d}! = \".format(i), end = \" \")\n",
    "    \n",
    "    # 產生階乘字串\n",
    "    a_list = [str(x) for x in range(1, i + 1)]\n",
    "    print('x'.join(a_list), end = \" \")\n",
    "    \n",
    "    # 產生階乘結果\n",
    "    factorial = 1\n",
    "    for j in range(1, i + 1):\n",
    "        factorial *= j\n",
    "    \n",
    "    # 印出階乘結果\n",
    "    print(\" = {}\".format(factorial))"
   ]
  },
  {
   "cell_type": "code",
   "execution_count": null,
   "metadata": {},
   "outputs": [],
   "source": []
  }
 ],
 "metadata": {
  "kernelspec": {
   "display_name": "Python 3",
   "language": "python",
   "name": "python3"
  },
  "language_info": {
   "codemirror_mode": {
    "name": "ipython",
    "version": 3
   },
   "file_extension": ".py",
   "mimetype": "text/x-python",
   "name": "python",
   "nbconvert_exporter": "python",
   "pygments_lexer": "ipython3",
   "version": "3.6.5"
  }
 },
 "nbformat": 4,
 "nbformat_minor": 2
}
