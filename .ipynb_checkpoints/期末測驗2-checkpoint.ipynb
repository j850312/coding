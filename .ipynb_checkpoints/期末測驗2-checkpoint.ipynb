{
 "cells": [
  {
   "cell_type": "code",
   "execution_count": 19,
   "metadata": {},
   "outputs": [
    {
     "name": "stdout",
     "output_type": "stream",
     "text": [
      "KT388711.1這個序列的品系，最早於01-MAY-1997 South Carolina被發現\n",
      "['IAMTRXP2S2', '01-MAY-1997', 'Influenza A virus A/South Carolina/1/18 (H1N1) matrix protein 2\\n']\n",
      "在台灣最早被發現的日期為:19-APR-2006\n",
      "['IAU52939', '19-APR-2006', 'Influenza A virus A/Taiwan/1/1986(H1N1) matrix protein M1 gene,\\n']\n"
     ]
    }
   ],
   "source": [
    "import re\n",
    "f=open(\"F:\\\\陽明coding\\\\python\\\\ans.txt\",\"r\")\n",
    "data=f.readline()\n",
    "month={\"JAN\":1,\"FEB\":2,\"MAR\":3,\"APR\":4,\"MAY\":5,\"JUN\":6,\"JUL\":7,\"AUG\":8,\"SEP\":9,\"OCT\":10,\"NOV\":11,\"DEC\":12}\n",
    "test1=[]\n",
    "check=[]\n",
    "while data:\n",
    "    #print(temp)\n",
    "    temp=data.split(\" \",2)\n",
    "    test=[]\n",
    "    test.append(temp[0])\n",
    "    test.append(temp[1])\n",
    "    test.append(temp[2])\n",
    "    test1.append(test)\n",
    "    data=f.readline()\n",
    "def change(x):\n",
    "    find=re.search(r\"(\\d+)\\-(\\D+)\\-(\\d+)\",x[1])\n",
    "    if find:\n",
    "        return [int(find.group(3)),month[find.group(2)],int(find.group(1))]\n",
    "    else:\n",
    "        return[0,0,0]\n",
    "def search1(x):\n",
    "    find=re.search(r\"A/Taiwan\",x[2])\n",
    "    if find:\n",
    "        tp=[]\n",
    "        tp.append(x[0])\n",
    "        tp.append(x[1])\n",
    "        tp.append(x[2])\n",
    "        check.append(tp)\n",
    "\n",
    "ans=sorted(test1,key=lambda x:change(x))\n",
    "f.close()\n",
    "\n",
    "where=ans[0][2].split(\"/\")\n",
    "print(\"KT388711.1這個序列的品系，最早於\"+ans[0][1]+\" \"+where[1]+\"被發現\")\n",
    "print(ans[0])\n",
    "for i in range(len(test1)):\n",
    "    search1(test1[i])\n",
    "ans1=sorted(check,key=lambda x:change(x))\n",
    "print(\"在台灣最早被發現的日期為:\"+ans1[0][1])\n",
    "print(ans1[0])"
   ]
  },
  {
   "cell_type": "code",
   "execution_count": null,
   "metadata": {
    "scrolled": false
   },
   "outputs": [],
   "source": []
  },
  {
   "cell_type": "code",
   "execution_count": null,
   "metadata": {},
   "outputs": [],
   "source": []
  }
 ],
 "metadata": {
  "kernelspec": {
   "display_name": "Python 3",
   "language": "python",
   "name": "python3"
  },
  "language_info": {
   "codemirror_mode": {
    "name": "ipython",
    "version": 3
   },
   "file_extension": ".py",
   "mimetype": "text/x-python",
   "name": "python",
   "nbconvert_exporter": "python",
   "pygments_lexer": "ipython3",
   "version": "3.6.5"
  }
 },
 "nbformat": 4,
 "nbformat_minor": 2
}
