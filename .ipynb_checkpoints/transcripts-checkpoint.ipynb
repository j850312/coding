{
 "cells": [
  {
   "cell_type": "code",
   "execution_count": 72,
   "metadata": {
    "scrolled": false
   },
   "outputs": [
    {
     "name": "stdout",
     "output_type": "stream",
     "text": [
      "XLOC_002826 XLOC_002826 FAM131C 1:16384263-16400127\n",
      "XLOC_003384 XLOC_003384 JUN 1:59246456-59249838\n",
      "XLOC_003979 XLOC_003979 FAM72C 1:149438749-149459549\n",
      "XLOC_031544 XLOC_031544 NEURL3 2:97163382-97173846\n",
      "XLOC_038992 XLOC_038992 RP11-641D5.1 3:168801286-169381406\n",
      "XLOC_040254 XLOC_040254 AREG 4:75310850-75320726\n",
      "XLOC_040255 XLOC_040255 AREGB 4:75320600-75414664\n",
      "XLOC_045154 XLOC_045154 DUSPxc 5:1721852-172204\n",
      "XLOC_045154 XLOC_045154 DUSP1 5:172185228-172204777\n",
      "XLOC_046677 XLOC_046677 RP11-632C17__A.1 6:118228688-118638839\n",
      "XLOC_046861 XLOC_046861 ULBP1 6:150285142-150294844\n",
      "XLOC_049269 XLOC_049269 IGFBP1 7:45927955-45933267\n",
      "XLOC_007420 XLOC_007420 ANKRD1 10:92671852-92681033\n",
      "XLOC_006550 XLOC_006550 HABP2 10:115310595-115423805\n",
      "XLOC_008857 XLOC_008857 TMEM151A 11:66059340-66064135\n",
      "XLOC_012422 XLOC_012422 HSPB8 12:119616446-119658936\n",
      "XLOC_026738 XLOC_026738 GDF15 19:18496967-18499986\n",
      "XLOC_028297 XLOC_028297 BBC3 19:47724027-47736023\n",
      "XLOC_028756 XLOC_028756 EHD2 19:47738548-47740288\n",
      "XLOC_028298 XLOC_028298 EHD2 19:47740421-47747454\n",
      "XLOC_028313 XLOC_028313 PLA2G4C 19:48551099-48614180\n",
      "XLOC_028332 XLOC_028332 FUT1 19:49251267-49258730\n",
      "XLOC_027184 XLOC_027184 PPP1R15A 19:49375648-49379318\n",
      "XLOC_035611 XLOC_035611 H1F0 22:38201113-38203442\n",
      "XLOC_035762 XLOC_035762 KLHDC7B 22:50984843-51001334\n",
      "XLOC_061973 XLOC_061973 ARMCX1 X:100805513-100809683\n",
      "XLOC_063129 XLOC_063129 BEX2 X:102564273-102565974\n",
      "XLOC_045154 XLOC_045154 DUSP_Un Un:1721852-172204\n"
     ]
    }
   ],
   "source": [
    "import re\n",
    "f=open('I:\\\\陽明coding\\\\python\\\\transcripts','r')\n",
    "data=[]\n",
    "\n",
    "lastdata=[]\n",
    "i=0\n",
    "temp=f.readline()\n",
    "change={\"Un\":26,\"X\":24}\n",
    "def select(x):\n",
    "        find=re.search(r\"(\\D+)\\:(\\d+)\\-(\\d+)\",x[1])\n",
    "        find2=re.search(r\"(\\d+)\\:(\\d+)\\-(\\d+)\",x[1])\n",
    "\n",
    "        if find:\n",
    "            return change[find.group(1)]\n",
    "        elif find2:\n",
    "            return int(find2.group(1))\n",
    "        else:\n",
    "            return 0\n",
    "while temp:\n",
    "    tpdata=[]\n",
    "    data=temp.split(\" \")\n",
    "    tp=\"\".join(data[len(data)-1])\n",
    "    tp=tp.split(\"\\n\")\n",
    "    #dicdata.setdefault(data[0]+\" \"+data[1]+\" \"+data[2]+\" \",tp[0])\n",
    "    tpdata.append(data[0]+\" \"+data[1]+\" \"+data[2]+\" \")\n",
    "    tpdata.append(tp[0])\n",
    "    lastdata.append(tpdata)\n",
    "    temp=f.readline()\n",
    "\n",
    "ans=sorted(lastdata,key=lambda x:select(x))\n",
    "count=1\n",
    "\n",
    "for i in range(0,len(ans)-1):\n",
    "    find3=re.search(r\"(\\d+)\\:(\\d+)\\-(\\d+)\",ans[i][1])\n",
    "    find4=re.search(r\"(\\d+)\\:(\\d+)\\-(\\d+)\",ans[i+1][1])\n",
    "    if find3==None:\n",
    "        find3=re.search(r\"(\\D+)\\:(\\d+)\\-(\\d+)\",ans[i][1])\n",
    "    if find4==None:\n",
    "        find4=re.search(r\"(\\D+)\\:(\\d+)\\-(\\d+)\",ans[i+1][1])\n",
    "    if(find3.group(1)==find4.group(1)):\n",
    "        count=count+1\n",
    "    \n",
    "    else:\n",
    "        if(count!=1):\n",
    "            for x in range(count):\n",
    "                for y in range(i-count+1,i):\n",
    "                    find5=re.search(r\"(\\d+)\\:(\\d+)\\-(\\d+)\",ans[y][1])\n",
    "                    find6=re.search(r\"(\\d+)\\:(\\d+)\\-(\\d+)\",ans[y+1][1])\n",
    "                    if find5==None:\n",
    "                        find5=re.search(r\"(\\D+)\\:(\\d+)\\-(\\d+)\",ans[y][1])\n",
    "                    if find6==None:\n",
    "                        find6=re.search(r\"(\\D+)\\:(\\d+)\\-(\\d+)\",ans[y+1][1])\n",
    "                    if(int(find5.group(2))>int(find6.group(2))):\n",
    "                        temp=ans[y]\n",
    "                        ans[y]=ans[y+1]\n",
    "                        ans[y+1]=temp\n",
    "        count=1\n",
    "            \n",
    "        \n",
    "\n",
    "for i in range(len(ans)):\n",
    "    print(\"{0}{1:>10}\".format(ans[i][0],ans[i][1]))"
   ]
  },
  {
   "cell_type": "code",
   "execution_count": null,
   "metadata": {},
   "outputs": [],
   "source": []
  }
 ],
 "metadata": {
  "kernelspec": {
   "display_name": "Python 3",
   "language": "python",
   "name": "python3"
  },
  "language_info": {
   "codemirror_mode": {
    "name": "ipython",
    "version": 3
   },
   "file_extension": ".py",
   "mimetype": "text/x-python",
   "name": "python",
   "nbconvert_exporter": "python",
   "pygments_lexer": "ipython3",
   "version": "3.6.8"
  }
 },
 "nbformat": 4,
 "nbformat_minor": 2
}
