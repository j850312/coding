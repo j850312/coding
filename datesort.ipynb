{
 "cells": [
  {
   "cell_type": "code",
   "execution_count": 51,
   "metadata": {},
   "outputs": [
    {
     "name": "stdout",
     "output_type": "stream",
     "text": [
      "[['infa_5', '29-Jan-2001'], ['infa_4', '30-Jan-2001'], ['infa_3', '05-Dec-2008'], ['infa_1', '20-Sep-2010'], ['infa_2', '18-Oct-2015']]\n"
     ]
    }
   ],
   "source": [
    "import re\n",
    "a_list = [['infa_1', '20-Sep-2010'],\n",
    "['infa_2', '18-Oct-2015'],\n",
    "['infa_3', '05-Dec-2008'],\n",
    "['infa_4', '30-Jan-2001'],\n",
    "['infa_5', '29-Jan-2001']]\n",
    "month={\"Jan\":1,\"Feb\":2,\"Mar\":3,\"Apr\":4,\"May\":5,\"Jun\":6,\"Jul\":7,\"Aug\":8,\"Sep\":9,\"Oct\":10,\"Nov\":11,\"Dec\":12}\n",
    "\n",
    "\n",
    "def change(x):\n",
    "    find=re.search(r\"(\\d+)\\-(\\D+)\\-(\\d+)\",x[1])\n",
    "    if find:\n",
    "        return [find.group(3),month[find.group(2)],find.group(1)]\n",
    "    else:\n",
    "        return[0,0,0]\n",
    "\n",
    "ans=sorted(a_list,key=lambda x:change(x))  \n",
    "print(ans)"
   ]
  },
  {
   "cell_type": "code",
   "execution_count": 52,
   "metadata": {},
   "outputs": [
    {
     "name": "stdout",
     "output_type": "stream",
     "text": [
      "{'infa_5': '29-Jan-2001', 'infa_4': '30-Jan-2001', 'infa_3': '05-Dec-2008', 'infa_1': '20-Sep-2010', 'infa_2': '18-Oct-2015'}\n"
     ]
    }
   ],
   "source": [
    "a_list = [['infa_1', '20-Sep-2010'],\n",
    "['infa_2', '18-Oct-2015'],\n",
    "['infa_3', '05-Dec-2008'],\n",
    "['infa_4', '30-Jan-2001'],\n",
    "['infa_5', '29-Jan-2001']]\n",
    "month={\"Jan\":\"01\",\"Feb\":\"02\",\"Mar\":\"03\",\"Apr\":\"04\",\"May\":\"05\",\"Jun\":\"06\",\"Jul\":\"07\",\"Aug\":\"08\",\"Sep\":\"09\",\"Oct\":\"10\",\"Nov\":\"11\",\"Dec\":\"12\"}\n",
    "\n",
    "dictemp={}\n",
    "for i in range(len(a_list)):\n",
    "    name=a_list[i][0]\n",
    "    list1=a_list[i][1].split(\"-\")\n",
    "    for key,value in month.items():\n",
    "        if(list1[1]==key):\n",
    "            list1[1]=value\n",
    "    list1.reverse()\n",
    "    list2=list1[0]+list1[1]+list1[2]\n",
    "    dictemp.setdefault(name,list2)\n",
    "ans={}\n",
    "temp=sorted(dictemp.items(),key=lambda item:item[1])\n",
    "\n",
    "for k in range(len(temp)):\n",
    "    for i in range(len(a_list)):\n",
    "        if(temp[k][0]==str(a_list[i][0])):\n",
    "            ans.setdefault(a_list[i][0],a_list[i][1])\n",
    "\n",
    "print(ans)"
   ]
  },
  {
   "cell_type": "code",
   "execution_count": 36,
   "metadata": {},
   "outputs": [
    {
     "name": "stdout",
     "output_type": "stream",
     "text": [
      "('18', 'Oct', '2015')\n"
     ]
    }
   ],
   "source": []
  },
  {
   "cell_type": "code",
   "execution_count": null,
   "metadata": {},
   "outputs": [],
   "source": []
  }
 ],
 "metadata": {
  "kernelspec": {
   "display_name": "Python 3",
   "language": "python",
   "name": "python3"
  },
  "language_info": {
   "codemirror_mode": {
    "name": "ipython",
    "version": 3
   },
   "file_extension": ".py",
   "mimetype": "text/x-python",
   "name": "python",
   "nbconvert_exporter": "python",
   "pygments_lexer": "ipython3",
   "version": "3.6.5"
  }
 },
 "nbformat": 4,
 "nbformat_minor": 2
}
