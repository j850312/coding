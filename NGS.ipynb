{
 "cells": [
  {
   "cell_type": "code",
   "execution_count": 1,
   "metadata": {},
   "outputs": [
    {
     "name": "stdout",
     "output_type": "stream",
     "text": [
      "['@HWI-ST491:153:D0B6LACXX:3:1101:1209:2220_1:N:0:', 'TTGCTATCCTCCTGGGCTgggTTG1GGACCAGCCGGCAGTTGTCTGG', '+', 'CCFFFFFFHHHHFGIJJJJJJCCJJCJCJJJJCJJJJJJJJJJJCJH']\n"
     ]
    },
    {
     "data": {
      "text/plain": [
       "4"
      ]
     },
     "execution_count": 1,
     "metadata": {},
     "output_type": "execute_result"
    }
   ],
   "source": [
    "read=[\n",
    "'@HWI-ST491:153:D0B6LACXX:3:1101:1209:2220_1:N:0:',\n",
    "'TTGCTATCCTCCTGGGCTgggTTG1GGACCAGCCGGCAGTTGTCTGG',\n",
    "'+',\n",
    "'CCFFFFFFHHHHFGIJJJJJJCCJJCJCJJJJCJJJJJJJJJJJCJH']\n",
    "print(read)\n",
    "len(read)\n",
    "#FASTQ文件中每個序列通常有四行：\n",
    "\n",
    "#1.第一行：必須以“@”開頭，後面跟著唯一的序列ID標識符，\n",
    "#然後跟著可選的序列描述內容，標識符與描述內容用空格分開；\n",
    "\n",
    "#2.第二行：序列字符（核酸為[AGCTN]+，蛋白為氨基酸字符）；\n",
    "\n",
    "#3.第三行：必須以“+”開頭，後面跟著可選的ID標識符和可選的描述內容，\n",
    "#如果“+”後面有內容，該內容必須與第一行“@”後的內容相同；\n",
    "\n",
    "#4.第四行：鹼基質量字符，每個字符對應第二行相應位置鹼基或氨基酸的質量，\n",
    "#該字符可以按一定規則轉換為鹼基質量得分，鹼基質量得分可以反映該鹼基的錯誤率。\n",
    "#這一行的字符數與第二行中的字符數必須相同。\n"
   ]
  },
  {
   "cell_type": "code",
   "execution_count": 2,
   "metadata": {},
   "outputs": [
    {
     "name": "stdout",
     "output_type": "stream",
     "text": [
      "{'T': 13, 'G': 14, 'C': 12, 'A': 4, 'g': 3, '1': 1}\n",
      "T : 13\n",
      "G : 14\n",
      "C : 12\n",
      "A : 4\n",
      "g : 3\n",
      "1 : 1\n",
      "{'1': 1, 'g': 3, 'A': 4, 'C': 12, 'T': 13, 'G': 14}\n"
     ]
    }
   ],
   "source": [
    "count ={}\n",
    "\n",
    "for i in range(len(read[1])):\n",
    "        if((read[1])[i] in count):\n",
    "            count[(read[1])[i]]+=1\n",
    "        else:\n",
    "            count[(read[1])[i]]=1\n",
    "print(count)\n",
    "for key,value in count.items():\n",
    "    print(key,\":\",value,end=\"\\n\")\n",
    "    \n",
    "ans=sorted(count.items(),key=lambda item:item[1])#value無法回推key\n",
    "newcount={}\n",
    "for i in range(len(count)):\n",
    "    newcount[ans[i][0]]=ans[i][1]\n",
    "print(newcount)\n",
    "    \n"
   ]
  },
  {
   "cell_type": "code",
   "execution_count": 7,
   "metadata": {},
   "outputs": [
    {
     "name": "stdout",
     "output_type": "stream",
     "text": [
      "[34, 34, 37, 37, 37, 37, 37, 37, 39, 39, 39, 39, 37, 38, 40, 41, 41, 41, 41, 41, 41, 34, 34, 41, 41, 34, 41, 34, 41, 41, 41, 41, 34, 41, 41, 41, 41, 41, 41, 41, 41, 41, 41, 41, 34, 41, 39]\n",
      "None\n",
      "average:38.91489361702128\n",
      "min:34\n",
      "max:41\n",
      "std:2.677034271061287\n"
     ]
    }
   ],
   "source": [
    "\n",
    "temp=0\n",
    "count=0\n",
    "value=list(map(lambda x:ord(x)-33,list(read[3])))\n",
    "print(value)\n",
    "for i in range(len(value)):\n",
    "    temp+=value[i]\n",
    "mean=temp/len(value)\n",
    "value.sort()\n",
    "for i in range(len(value)):\n",
    "    count+=((value[i]-mean)*(value[i]-mean))\n",
    "sd=(count/(len(value)-1))**0.5\n",
    "\n",
    "print(\"average:\"+str(mean))\n",
    "print(\"min:\"+str(value[0]))\n",
    "print(\"max:\"+str(value[len(value)-1]))\n",
    "print(\"std:\"+str(sd))\n"
   ]
  },
  {
   "cell_type": "code",
   "execution_count": 12,
   "metadata": {
    "scrolled": true
   },
   "outputs": [
    {
     "data": {
      "image/png": "[encoded data removed]",
      "text/plain": [
       "<Figure size 432x288 with 1 Axes>"
      ]
     },
     "metadata": {},
     "output_type": "display_data"
    }
   ],
   "source": [
    "import matplotlib.pyplot as plt\n",
    "del newcount[\"1\"]\n",
    "del newcount[\"g\"]\n",
    "plt.bar(newcount.keys(),newcount.values())\n",
    "plt.show() "
   ]
  },
  {
   "cell_type": "code",
   "execution_count": null,
   "metadata": {},
   "outputs": [],
   "source": []
  }
 ],
 "metadata": {
  "kernelspec": {
   "display_name": "Python 3",
   "language": "python",
   "name": "python3"
  },
  "language_info": {
   "codemirror_mode": {
    "name": "ipython",
    "version": 3
   },
   "file_extension": ".py",
   "mimetype": "text/x-python",
   "name": "python",
   "nbconvert_exporter": "python",
   "pygments_lexer": "ipython3",
   "version": "3.6.8"
  }
 },
 "nbformat": 4,
 "nbformat_minor": 2
}
