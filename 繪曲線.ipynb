{
 "cells": [
  {
   "cell_type": "markdown",
   "metadata": {},
   "source": [
    "# Plotting tangent and normal line\n",
    "\n",
    "## Before starting...\n",
    "## LaTeX equations\n",
    "See also http://jupyter-notebook.readthedocs.io/en/stable/examples/Notebook/Working%20With%20Markdown%20Cells.html\n",
    "\n",
    "For online LaTex math equ. generator, see https://www.codecogs.com/eqnedit.php \n",
    "\n",
    "Courtesy of MathJax, you can include mathematical expressions both inline: $e^{i\\pi} + 1 = 0$\n",
    "\n",
    "and displayed:\n",
    "\n",
    "$$e^x=\\sum_{i=0}^\\infty \\frac{1}{i!}x^i$$\n",
    "\n",
    "Inline expressions can be added by surrounding the LaTex code with $:\n",
    "\n",
    "\\$e^{i\\\\pi} + 1 = 0\\$\n",
    "\n",
    "Expressions on their own line are surrounded by $$:\n",
    "\n",
    "\\$\\$e^x=\\\\sum\\_{i=0}^\\\\infty \\\\frac{1}{i!}x^i\\$\\$"
   ]
  },
  {
   "cell_type": "code",
   "execution_count": null,
   "metadata": {},
   "outputs": [],
   "source": []
  },
  {
   "cell_type": "markdown",
   "metadata": {},
   "source": [
    "# Visualizing the tangent and normal line\n",
    "## Visualizing the tangent line\n",
    "\n",
    "Source: https://glowingpython.blogspot.com/2013/02/visualizing-tangent.html\n",
    "\n",
    "The tangent to a curve is the straight line that touches the curve at a given point. One reason that tangents are so important is that they give the slopes of straight lines. So, if your curve represents a time series you can tell the ratio of change of your values just looking at the tangent.\n",
    "Suppose that a curve is given as the graph of a function, y = f(x). We have that the slope in the point (a, f(a)) is equal to its derivative in a\n",
    "\n",
    "$$f'(a) = \\lim_{h\\rightarrow 0}\\frac{f(a+h)-f(a)}{h}$$\n",
    "<p/>\n",
    "<div style=\"text-align: center\">LaTex: \\$\\$f'(a) = \\\\lim_{h\\\\rightarrow 0}\\\\frac{f(a+h)-f(a)}{h}\\$\\$</div>\n",
    "\n",
    "and the equation of the tangent line can be stated as follows \n",
    "\n",
    "$$y = f(a) + f'(a)(x-a)$$\n",
    "<p/>\n",
    "<div style=\"text-align: center\">LaTex: \\$\\$y = f(a) + f'(a)(x-a)\\$\\$</div>\n",
    "\n",
    "For more info. about the markdown language, see http://jupyter-notebook.readthedocs.io/en/stable/examples/Notebook/Working%20With%20Markdown%20Cells.html\n",
    "\n",
    "## Visualizing the normal line\n",
    "\n",
    "The equation of the normal line to y = f(x) at (a,f(a)) is:\n",
    "\n",
    "$$y = f(a) - \\frac{1}{f'(a)}(x-a)$$\n",
    "<div style=\"text-align:center\">LaTex: \\$\\$y = f(a) - \\frac{1}{f'(a)}(x-a)\\$\\$</div>"
   ]
  },
  {
   "cell_type": "code",
   "execution_count": null,
   "metadata": {},
   "outputs": [],
   "source": []
  },
  {
   "cell_type": "code",
   "execution_count": 6,
   "metadata": {},
   "outputs": [
    {
     "name": "stdout",
     "output_type": "stream",
     "text": [
      "0.4*x\n",
      "<class 'int'>\n",
      "0.7999999999999998\n",
      "<class 'float'>\n",
      "<class 'float'>\n"
     ]
    },
    {
     "data": {
      "text/plain": [
       "[<matplotlib.lines.Line2D at 0x181a521d30>]"
      ]
     },
     "execution_count": 6,
     "metadata": {},
     "output_type": "execute_result"
    },
    {
     "data": {
      "image/png": "[encoded data removed]",
      "text/plain": [
       "<matplotlib.figure.Figure at 0x181a4181d0>"
      ]
     },
     "metadata": {},
     "output_type": "display_data"
    }
   ],
   "source": [
    "import sympy as sp\n",
    "x = sp.Symbol('x')\n",
    "print (sp.diff(0.2*x**2 + 1))\n",
    "\n",
    "from scipy.misc import derivative\n",
    "def f(x):\n",
    "    return 0.2*x**2 + 2\n",
    "\n",
    "def d(x):\n",
    "    print(type(x))\n",
    "    return derivative(f,x)\n",
    "\n",
    "print(d(2))\n",
    "#print derivative(f,x).\n",
    "\n",
    "%matplotlib inline\n",
    "import matplotlib.pyplot as plt\n",
    "import numpy as np\n",
    "\n",
    "fig = plt.figure()\n",
    "ax = fig.gca()\n",
    "ax.set_aspect('equal', 'datalim') # for a comparison, remove this line\n",
    "ax.set_xlim([-30,30])\n",
    "ax.set_ylim([-10,30])\n",
    "\n",
    "# ax.set_xticks(np.arange(-3, 3, 0.5))\n",
    "# ax.set_yticks(np.arange(-2, 27, 2))\n",
    "plt.grid()\n",
    "\n",
    "x1 = np.linspace(-30, 30)\n",
    "plt.plot(x1, f(x1))\n",
    "plt.plot(2, f(2), 'om')\n",
    "plt.plot(x1, f(2) + d(2.0) * (x1-2), '--r')\n",
    "plt.plot(x1, f(2) - 1.0/d(2.0) * (x1-2), '--b')\n",
    "\n"
   ]
  },
  {
   "cell_type": "code",
   "execution_count": null,
   "metadata": {},
   "outputs": [],
   "source": []
  },
  {
   "cell_type": "code",
   "execution_count": null,
   "metadata": {},
   "outputs": [],
   "source": []
  },
  {
   "cell_type": "code",
   "execution_count": null,
   "metadata": {},
   "outputs": [],
   "source": []
  },
  {
   "cell_type": "code",
   "execution_count": null,
   "metadata": {},
   "outputs": [],
   "source": []
  },
  {
   "cell_type": "code",
   "execution_count": null,
   "metadata": {},
   "outputs": [],
   "source": []
  },
  {
   "cell_type": "code",
   "execution_count": null,
   "metadata": {},
   "outputs": [],
   "source": []
  },
  {
   "cell_type": "code",
   "execution_count": null,
   "metadata": {},
   "outputs": [],
   "source": []
  },
  {
   "cell_type": "code",
   "execution_count": null,
   "metadata": {},
   "outputs": [],
   "source": []
  },
  {
   "cell_type": "code",
   "execution_count": null,
   "metadata": {},
   "outputs": [],
   "source": []
  },
  {
   "cell_type": "code",
   "execution_count": null,
   "metadata": {},
   "outputs": [],
   "source": []
  },
  {
   "cell_type": "code",
   "execution_count": null,
   "metadata": {},
   "outputs": [],
   "source": []
  },
  {
   "cell_type": "code",
   "execution_count": 2,
   "metadata": {},
   "outputs": [
    {
     "data": {
      "image/png": "[encoded data removed]",
      "text/plain": [
       "<matplotlib.figure.Figure at 0x10e131160>"
      ]
     },
     "metadata": {},
     "output_type": "display_data"
    }
   ],
   "source": [
    "from numpy import sin,linspace,power\n",
    "from pylab import plot,show\n",
    "\n",
    "def f(x): # sample function\n",
    " return x*sin(power(x,2))\n",
    "\n",
    "# evaluation of the function\n",
    "x = linspace(-2,4,150)\n",
    "y = f(x)\n",
    "\n",
    "a = 1.4\n",
    "h = 0.1\n",
    "fprime = (f(a+h)-f(a))/h # derivative\n",
    "tan = f(a)+fprime*(x-a)  # tangent\n",
    "\n",
    "# plot of the function and the tangent\n",
    "plot(x,y,'b',a,f(a),'om',x,tan,'--r')\n",
    "show()"
   ]
  },
  {
   "cell_type": "code",
   "execution_count": 3,
   "metadata": {},
   "outputs": [
    {
     "data": {
      "image/png": "[encoded data removed]",
      "text/plain": [
       "<matplotlib.figure.Figure at 0x113d3f898>"
      ]
     },
     "metadata": {},
     "output_type": "display_data"
    }
   ],
   "source": [
    "from numpy import arange\n",
    "import numpy as np\n",
    "from pylab import plot,show\n",
    "\n",
    "# Fresh potatoes: Annual Consumer price index, 1949-2006\n",
    "# obatined at https://explore.data.gov/Agriculture/U-S-Potato-Statistics/cgk7-6ccj\n",
    "price_index = [21.0,17.6,19.3,28.9,21.1,20.5,22.1,26.4,22.3,24.4,24.6,28.0,24.7,24.9,25.7,31.6,39.1,31.3,31.3,32.1,34.4,38.0,36.7,39.6,58.8,71.8,57.7,62.6,63.8,66.3,63.6,81.0,109.5,92.7,91.3,116.0,101.5,96.1,116.0,119.1,153.5,162.6,144.6,141.5,154.6,174.3,174.7,180.6,174.1,185.2,193.1,196.3,202.3,238.6,228.1,231.1,247.7,273.1]\n",
    "t = np.arange(1949,2007)\n",
    "from scipy import interpolate\n",
    "\n",
    "def draw_tangent(x,y,a):\n",
    " # interpolate the data with a spline\n",
    " spl = interpolate.splrep(x,y)\n",
    " small_t = arange(a-5,a+5)\n",
    " fa = interpolate.splev(a,spl,der=0)     # f(a)\n",
    " fprime = interpolate.splev(a,spl,der=1) # f'(a)\n",
    " tan = fa+fprime*(small_t-a) # tangent\n",
    " plot(a,fa,'om',small_t,tan,'--r')\n",
    "\n",
    "draw_tangent(t,price_index,1991)\n",
    "draw_tangent(t,price_index,1998)\n",
    "\n",
    "plot(t,price_index,alpha=0.5)\n",
    "show()"
   ]
  },
  {
   "cell_type": "code",
   "execution_count": null,
   "metadata": {},
   "outputs": [],
   "source": []
  }
 ],
 "metadata": {
  "kernelspec": {
   "display_name": "Python 3",
   "language": "python",
   "name": "python3"
  },
  "language_info": {
   "codemirror_mode": {
    "name": "ipython",
    "version": 3
   },
   "file_extension": ".py",
   "mimetype": "text/x-python",
   "name": "python",
   "nbconvert_exporter": "python",
   "pygments_lexer": "ipython3",
   "version": "3.6.5"
  }
 },
 "nbformat": 4,
 "nbformat_minor": 2
}
